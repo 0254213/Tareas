{
 "cells": [
  {
   "cell_type": "markdown",
   "id": "e3da7ced",
   "metadata": {},
   "source": [
    "# Ejercicios de Introducción a Python\n",
    "\n",
    "\n",
    "\n",
    "## Tipos de Datos Básicos y Estructuras de Control\n",
    "\n",
    "\n",
    "\n",
    "### Ejercicio 1: Calculadora de Propinas\n",
    "\n",
    "\n",
    "\n",
    "Escribe un programa que solicite al usuario el monto de una cuenta (float) y el porcentaje de propina que desea dar (int). El programa debe calcular y mostrar la propina y el total a pagar.\n",
    "\n",
    "\n",
    "\n",
    "**Ejemplo de salida:**\n",
    "\n",
    "\n",
    "\n",
    "```\n",
    "\n",
    "Ingresa el monto de la cuenta: 150.75\n",
    "\n",
    "Ingresa el porcentaje de propina: 15\n",
    "\n",
    "Propina: $22.61\n",
    "\n",
    "Total a pagar: $173.36\n",
    "\n",
    "```\n",
    "\n",
    "\n",
    "\n",
    "---"
   ]
  },
  {
   "cell_type": "code",
   "execution_count": 2,
   "id": "a98704e6",
   "metadata": {},
   "outputs": [
    {
     "name": "stdout",
     "output_type": "stream",
     "text": [
      "Propina: 15.0\n",
      "Total: 165.0\n"
     ]
    }
   ],
   "source": [
    "cuenta = float(input(\"Monto de la cuenta: \"))\n",
    "tip = int(input(\"Porcentaje de propina: \"))\n",
    "\n",
    "extra = cuenta * tip / 100\n",
    "total = cuenta + extra\n",
    "\n",
    "print(\"Propina:\", round(extra, 2))\n",
    "print(\"Total:\", round(total, 2))\n"
   ]
  },
  {
   "cell_type": "markdown",
   "id": "fc53364f",
   "metadata": {},
   "source": [
    "### Ejercicio 2: Contador de Vocales\n",
    "\n",
    "\n",
    "\n",
    "Crea un programa que pida una palabra al usuario (str) y use un ciclo `for` para contar cuántas vocales (a, e, i, o, u) contiene la palabra. Considera tanto mayúsculas como minúsculas.\n",
    "\n",
    "\n",
    "\n",
    "**Ejemplo de salida:**\n",
    "\n",
    "\n",
    "\n",
    "```\n",
    "\n",
    "Ingresa una palabra: Python\n",
    "\n",
    "La palabra \"Python\" tiene 1 vocal(es)\n",
    "\n",
    "```\n",
    "\n",
    "\n",
    "\n",
    "---"
   ]
  },
  {
   "cell_type": "code",
   "execution_count": null,
   "id": "26c6e5c5",
   "metadata": {},
   "outputs": [
    {
     "name": "stdout",
     "output_type": "stream",
     "text": [
      "La palabra holaa tiene 3 vocal(es)\n"
     ]
    }
   ],
   "source": [
    "pal = input(\"Escribe una palabra: \")\n",
    "voc = \"aeiouAEIOU\"\n",
    "num = 0\n",
    "\n",
    "for x in pal:\n",
    "    if x in voc:\n",
    "        num += 1\n",
    "\n",
    "print(\"La palabra\", pal, \"tiene\", num, \"vocales\")\n"
   ]
  },
  {
   "cell_type": "markdown",
   "id": "7dd82925",
   "metadata": {},
   "source": [
    "### Ejercicio 3: Tabla de Multiplicar\n",
    "\n",
    "\n",
    "\n",
    "Solicita al usuario un número entero (int) y usa un ciclo `for` para mostrar su tabla de multiplicar del 1 al 10.\n",
    "\n",
    "\n",
    "\n",
    "**Ejemplo de salida:**\n",
    "\n",
    "\n",
    "\n",
    "```\n",
    "\n",
    "Ingresa un número: 7\n",
    "\n",
    "7 x 1 = 7\n",
    "\n",
    "7 x 2 = 14\n",
    "\n",
    "...\n",
    "\n",
    "7 x 10 = 70\n",
    "\n",
    "```\n",
    "\n",
    "\n",
    "\n",
    "---\n",
    "\n"
   ]
  },
  {
   "cell_type": "code",
   "execution_count": 4,
   "id": "ba407e3a",
   "metadata": {},
   "outputs": [
    {
     "name": "stdout",
     "output_type": "stream",
     "text": [
      "2 x 1 = 2\n",
      "2 x 2 = 4\n",
      "2 x 3 = 6\n",
      "2 x 4 = 8\n",
      "2 x 5 = 10\n",
      "2 x 6 = 12\n",
      "2 x 7 = 14\n",
      "2 x 8 = 16\n",
      "2 x 9 = 18\n",
      "2 x 10 = 20\n"
     ]
    }
   ],
   "source": [
    "n = int(input(\"Número: \"))\n",
    "\n",
    "for i in range(1, 11):\n",
    "    print(n, \"x\", i, \"=\", n * i)\n"
   ]
  },
  {
   "cell_type": "markdown",
   "id": "5b145e42",
   "metadata": {},
   "source": [
    "### Ejercicio 4: Validador de Contraseña Simple\n",
    "\n",
    "\n",
    "\n",
    "Escribe un programa que pida una contraseña al usuario y use un ciclo `while` para seguir pidiendo la contraseña hasta que tenga al menos 8 caracteres. Al final, muestra la longitud de la contraseña aceptada.\n",
    "\n",
    "\n",
    "\n",
    "**Ejemplo de salida:**\n",
    "\n",
    "\n",
    "\n",
    "```\n",
    "\n",
    "Ingresa tu contraseña: 123\n",
    "\n",
    "Muy corta. Ingresa tu contraseña: 12345678\n",
    "\n",
    "Contraseña aceptada. Longitud: 8 caracteres\n",
    "\n",
    "```\n",
    "\n",
    "\n",
    "\n",
    "---\n",
    "\n"
   ]
  },
  {
   "cell_type": "code",
   "execution_count": 5,
   "id": "287a1493",
   "metadata": {},
   "outputs": [
    {
     "name": "stdout",
     "output_type": "stream",
     "text": [
      "Aceptada, longitud: 9\n"
     ]
    }
   ],
   "source": [
    "clave = input(\"Contraseña: \")\n",
    "\n",
    "while len(clave) < 8:\n",
    "    clave = input(\"Muy corta, escribe otra: \")\n",
    "\n",
    "print(\"Aceptada, longitud:\", len(clave))\n"
   ]
  },
  {
   "cell_type": "markdown",
   "id": "754182a4",
   "metadata": {},
   "source": [
    "### Ejercicio 5: Suma de Números Pares\n",
    "\n",
    "\n",
    "\n",
    "Pide al usuario un número entero (int) y usa un ciclo `for` para calcular la suma de todos los números pares desde 2 hasta ese número (inclusive).\n",
    "\n",
    "\n",
    "\n",
    "**Ejemplo de salida:**\n",
    "\n",
    "\n",
    "\n",
    "```\n",
    "\n",
    "Ingresa un número: 10\n",
    "\n",
    "La suma de números pares desde 2 hasta 10 es: 30\n",
    "\n",
    "(2 + 4 + 6 + 8 + 10 = 30)\n",
    "\n",
    "```\n",
    "\n",
    "\n",
    "\n",
    "---"
   ]
  },
  {
   "cell_type": "code",
   "execution_count": 7,
   "id": "107c45e8",
   "metadata": {},
   "outputs": [
    {
     "name": "stdout",
     "output_type": "stream",
     "text": [
      "\n",
      "La suma de números pares desde 2 hasta 4 es: 6\n",
      "(2 + 4 = 6)\n"
     ]
    }
   ],
   "source": [
    "n = int(input(\"Ingresa un número: \"))\n",
    "\n",
    "suma = 0\n",
    "\n",
    "for i in range(2, n + 1, 2):\n",
    "    suma += i\n",
    "\n",
    "print(f\"\\nLa suma de números pares desde 2 hasta {n} es: {suma}\")\n",
    "\n",
    "pares = [str(i) for i in range(2, n + 1, 2)]\n",
    "print(f\"({' + '.join(pares)} = {suma})\")\n"
   ]
  },
  {
   "cell_type": "markdown",
   "id": "9a72b634",
   "metadata": {},
   "source": [
    "### Ejercicio 6: Generador de Patrones de Texto\n",
    "\n",
    "\n",
    "\n",
    "Solicita al usuario un carácter (str) y un número de filas (int). Usa ciclos `for` anidados para crear un patrón triangular donde cada fila tiene un carácter más que la anterior.\n",
    "\n",
    "\n",
    "\n",
    "**Ejemplo de salida:**\n",
    "\n",
    "\n",
    "\n",
    "```\n",
    "\n",
    "Ingresa un carácter: *\n",
    "\n",
    "Ingresa número de filas: 4\n",
    "\n",
    "*\n",
    "\n",
    "**\n",
    "\n",
    "***\n",
    "\n",
    "****\n",
    "\n",
    "```\n",
    "\n",
    "\n",
    "\n",
    "---"
   ]
  },
  {
   "cell_type": "code",
   "execution_count": 8,
   "id": "125f47dc",
   "metadata": {},
   "outputs": [
    {
     "name": "stdout",
     "output_type": "stream",
     "text": [
      "-\n",
      "--\n",
      "---\n",
      "----\n",
      "-----\n"
     ]
    }
   ],
   "source": [
    "sim = input(\"Carácter: \")\n",
    "fil = int(input(\"Filas: \"))\n",
    "\n",
    "for i in range(1, fil+1):\n",
    "    print(sim * i)\n"
   ]
  },
  {
   "cell_type": "markdown",
   "id": "1433d4dd",
   "metadata": {},
   "source": [
    "### Ejercicio 7: Calculadora de Promedio con Validación\n",
    "\n",
    "\n",
    "\n",
    "Usa un ciclo `while` para pedir al usuario que ingrese números decimales (float) uno por uno. El programa debe terminar cuando el usuario ingrese -1. Al final, calcula y muestra el promedio de todos los números ingresados (sin contar el -1).\n",
    "\n",
    "\n",
    "\n",
    "**Ejemplo de salida:**\n",
    "\n",
    "\n",
    "\n",
    "```\n",
    "\n",
    "Ingresa un número (-1 para terminar): 8.5\n",
    "\n",
    "Ingresa un número (-1 para terminar): 9.2\n",
    "\n",
    "Ingresa un número (-1 para terminar): 7.8\n",
    "\n",
    "Ingresa un número (-1 para terminar): -1\n",
    "\n",
    "Promedio: 8.50\n",
    "\n",
    "```\n",
    "\n",
    "\n",
    "\n",
    "---"
   ]
  },
  {
   "cell_type": "code",
   "execution_count": 9,
   "id": "b4c392a6",
   "metadata": {},
   "outputs": [
    {
     "name": "stdout",
     "output_type": "stream",
     "text": [
      "Promedio: 2.45\n"
     ]
    }
   ],
   "source": [
    "s = 0\n",
    "c = 0\n",
    "n = float(input(\"Número (-1 para salir): \"))\n",
    "\n",
    "while n != -1:\n",
    "    s += n\n",
    "    c += 1\n",
    "    n = float(input(\"Número (-1 para salir): \"))\n",
    "\n",
    "if c > 0:\n",
    "    print(\"Promedio:\", round(s/c, 2))\n",
    "else:\n",
    "    print(\"No hay datos\")\n"
   ]
  },
  {
   "cell_type": "markdown",
   "id": "a95f5a4a",
   "metadata": {},
   "source": [
    "### Ejercicio 8: Inversor de Palabras\n",
    "\n",
    "\n",
    "\n",
    "Pide al usuario una frase (str) y usa un ciclo `for` para mostrar cada palabra de la frase al revés. Las palabras se separan por espacios.\n",
    "\n",
    "\n",
    "\n",
    "**Ejemplo de salida:**\n",
    "\n",
    "\n",
    "\n",
    "```\n",
    "\n",
    "Ingresa una frase: Hola mundo Python\n",
    "\n",
    "aloH\n",
    "\n",
    "odnum\n",
    "\n",
    "nohtyP\n",
    "\n",
    "```\n",
    "\n",
    "\n",
    "\n",
    "---"
   ]
  },
  {
   "cell_type": "code",
   "execution_count": 11,
   "id": "980c625a",
   "metadata": {},
   "outputs": [
    {
     "name": "stdout",
     "output_type": "stream",
     "text": [
      "aloH\n",
      "odnuM\n"
     ]
    }
   ],
   "source": [
    "texto = input(\"Frase: \")\n",
    "palabras = texto.split()\n",
    "\n",
    "for p in palabras:\n",
    "    print(p[::-1])"
   ]
  },
  {
   "cell_type": "markdown",
   "id": "26e908e4",
   "metadata": {},
   "source": [
    "### Ejercicio 9: Juego de Adivinanza Simple\n",
    "\n",
    "\n",
    "\n",
    "Crea un juego donde el programa \"piensa\" en un número del 1 al 20 (puedes usar el número 15 fijo). Usa un ciclo `while` para que el usuario siga adivinando hasta que acierte. Cuenta y muestra el número de intentos.\n",
    "\n",
    "\n",
    "\n",
    "**Ejemplo de salida:**\n",
    "\n",
    "\n",
    "\n",
    "```\n",
    "\n",
    "Adivina el número (1-20): 10\n",
    "\n",
    "Muy bajo. Adivina el número (1-20): 18\n",
    "\n",
    "Muy alto. Adivina el número (1-20): 15\n",
    "\n",
    "¡Correcto! Lo adivinaste en 3 intentos.\n",
    "\n",
    "```\n",
    "\n",
    "\n",
    "\n",
    "---"
   ]
  },
  {
   "cell_type": "code",
   "execution_count": 13,
   "id": "464211b3",
   "metadata": {},
   "outputs": [
    {
     "name": "stdout",
     "output_type": "stream",
     "text": [
      "Muy bajo\n",
      "Muy bajo\n",
      "¡Correcto en 3 intentos!\n"
     ]
    }
   ],
   "source": [
    "secreto = 15\n",
    "intentos = 0\n",
    "num = 0\n",
    "\n",
    "while num != secreto:\n",
    "    num = int(input(\"Adivina (1-20): \"))\n",
    "    intentos += 1\n",
    "    if num < secreto:\n",
    "        print(\"Muy bajo\")\n",
    "    elif num > secreto:\n",
    "        print(\"Muy alto\")\n",
    "\n",
    "print(\"¡Correcto en\", intentos, \"intentos!\")\n"
   ]
  },
  {
   "cell_type": "markdown",
   "id": "6063b5b7",
   "metadata": {},
   "source": [
    "### Ejercicio 10: Análisis de Texto\n",
    "\n",
    "\n",
    "\n",
    "Pide al usuario que ingrese un texto (str) y realiza el siguiente análisis usando ciclos:\n",
    "\n",
    "\n",
    "\n",
    "- Cuenta el número total de caracteres\n",
    "\n",
    "- Cuenta cuántos espacios hay\n",
    "\n",
    "- Cuenta cuántos dígitos numéricos hay\n",
    "\n",
    "- Muestra la primera y última letra del texto\n",
    "\n",
    "\n",
    "\n",
    "**Ejemplo de salida:**\n",
    "\n",
    "\n",
    "\n",
    "```\n",
    "\n",
    "Ingresa un texto: Hola mundo 123\n",
    "\n",
    "Análisis del texto:\n",
    "\n",
    "- Caracteres totales: 13\n",
    "\n",
    "- Espacios: 2\n",
    "\n",
    "- Dígitos numéricos: 3\n",
    "\n",
    "- Primera letra: H\n",
    "\n",
    "- Última letra: 3\n",
    "\n",
    "```\n",
    "\n"
   ]
  },
  {
   "cell_type": "code",
   "execution_count": 17,
   "id": "f1f3fe9a",
   "metadata": {},
   "outputs": [
    {
     "name": "stdout",
     "output_type": "stream",
     "text": [
      "\n",
      "Análisis del texto:\n",
      "\n",
      "- Caracteres totales: 14\n",
      "- Espacios: 2\n",
      "- Dígitos numéricos: 3\n",
      "- Primera letra: H\n",
      "- Última letra: 1\n"
     ]
    }
   ],
   "source": [
    "tex = input(\"Ingresa un texto: \")\n",
    "\n",
    "char = 0\n",
    "espacios = 0\n",
    "digit = 0\n",
    "\n",
    "for c in tex:\n",
    "    char += 1\n",
    "    if c == \" \":\n",
    "        espacios += 1\n",
    "    if c.isdigit():\n",
    "        digit += 1\n",
    "\n",
    "print(\"\\nAnálisis del texto:\\n\")\n",
    "print(f\"- Caracteres totales: {char}\")\n",
    "print(f\"- Espacios: {espacios}\")\n",
    "print(f\"- Dígitos numéricos: {digit}\")\n",
    "print(f\"- Primera letra: {tex[0]}\")\n",
    "print(f\"- Última letra: {tex[-1]}\")\n"
   ]
  },
  {
   "cell_type": "code",
   "execution_count": null,
   "id": "543abb10",
   "metadata": {},
   "outputs": [],
   "source": []
  }
 ],
 "metadata": {
  "kernelspec": {
   "display_name": "base",
   "language": "python",
   "name": "python3"
  },
  "language_info": {
   "codemirror_mode": {
    "name": "ipython",
    "version": 3
   },
   "file_extension": ".py",
   "mimetype": "text/x-python",
   "name": "python",
   "nbconvert_exporter": "python",
   "pygments_lexer": "ipython3",
   "version": "3.13.5"
  }
 },
 "nbformat": 4,
 "nbformat_minor": 5
}
